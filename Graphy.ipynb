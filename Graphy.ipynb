{
 "cells": [
  {
   "cell_type": "code",
   "execution_count": 1,
   "id": "cf79a632",
   "metadata": {},
   "outputs": [
    {
     "name": "stdout",
     "output_type": "stream",
     "text": [
      "Requirement already satisfied: PySimpleGUI in /Library/Frameworks/Python.framework/Versions/3.9/lib/python3.9/site-packages (4.60.5)\n",
      "\u001b[33mWARNING: You are using pip version 21.2.3; however, version 23.1.2 is available.\n",
      "You should consider upgrading via the '/Library/Frameworks/Python.framework/Versions/3.9/bin/python3 -m pip install --upgrade pip' command.\u001b[0m\n",
      "Note: you may need to restart the kernel to use updated packages.\n"
     ]
    }
   ],
   "source": [
    "pip install PySimpleGUI"
   ]
  },
  {
   "cell_type": "code",
   "execution_count": 2,
   "id": "11f87008",
   "metadata": {},
   "outputs": [
    {
     "name": "stdout",
     "output_type": "stream",
     "text": [
      "Requirement already satisfied: numpy in /Library/Frameworks/Python.framework/Versions/3.9/lib/python3.9/site-packages (1.25.0)\n"
     ]
    },
    {
     "name": "stdout",
     "output_type": "stream",
     "text": [
      "\u001b[33mWARNING: You are using pip version 21.2.3; however, version 23.1.2 is available.\n",
      "You should consider upgrading via the '/Library/Frameworks/Python.framework/Versions/3.9/bin/python3 -m pip install --upgrade pip' command.\u001b[0m\n",
      "Note: you may need to restart the kernel to use updated packages.\n"
     ]
    }
   ],
   "source": [
    "pip install numpy\n"
   ]
  },
  {
   "cell_type": "code",
   "execution_count": 3,
   "id": "3e9c871b",
   "metadata": {},
   "outputs": [
    {
     "name": "stdout",
     "output_type": "stream",
     "text": [
      "Requirement already satisfied: pandas in /Library/Frameworks/Python.framework/Versions/3.9/lib/python3.9/site-packages (2.0.3)\n",
      "Requirement already satisfied: tzdata>=2022.1 in /Library/Frameworks/Python.framework/Versions/3.9/lib/python3.9/site-packages (from pandas) (2023.3)\n",
      "Requirement already satisfied: python-dateutil>=2.8.2 in /Users/akshitrathore/Library/Python/3.9/lib/python/site-packages (from pandas) (2.8.2)\n",
      "Requirement already satisfied: numpy>=1.20.3 in /Library/Frameworks/Python.framework/Versions/3.9/lib/python3.9/site-packages (from pandas) (1.25.0)\n",
      "Requirement already satisfied: pytz>=2020.1 in /Library/Frameworks/Python.framework/Versions/3.9/lib/python3.9/site-packages (from pandas) (2023.3)\n",
      "Requirement already satisfied: six>=1.5 in /Users/akshitrathore/Library/Python/3.9/lib/python/site-packages (from python-dateutil>=2.8.2->pandas) (1.16.0)\n"
     ]
    },
    {
     "name": "stdout",
     "output_type": "stream",
     "text": [
      "\u001b[33mWARNING: You are using pip version 21.2.3; however, version 23.1.2 is available.\n",
      "You should consider upgrading via the '/Library/Frameworks/Python.framework/Versions/3.9/bin/python3 -m pip install --upgrade pip' command.\u001b[0m\n",
      "Note: you may need to restart the kernel to use updated packages.\n"
     ]
    }
   ],
   "source": [
    "pip install pandas"
   ]
  },
  {
   "cell_type": "code",
   "execution_count": 4,
   "id": "fcaca072",
   "metadata": {},
   "outputs": [
    {
     "name": "stdout",
     "output_type": "stream",
     "text": [
      "Requirement already satisfied: matplotlib in /Library/Frameworks/Python.framework/Versions/3.9/lib/python3.9/site-packages (3.7.1)\n",
      "Requirement already satisfied: python-dateutil>=2.7 in /Users/akshitrathore/Library/Python/3.9/lib/python/site-packages (from matplotlib) (2.8.2)\n",
      "Requirement already satisfied: kiwisolver>=1.0.1 in /Library/Frameworks/Python.framework/Versions/3.9/lib/python3.9/site-packages (from matplotlib) (1.4.4)\n",
      "Requirement already satisfied: importlib-resources>=3.2.0 in /Library/Frameworks/Python.framework/Versions/3.9/lib/python3.9/site-packages (from matplotlib) (5.12.0)\n",
      "Requirement already satisfied: fonttools>=4.22.0 in /Library/Frameworks/Python.framework/Versions/3.9/lib/python3.9/site-packages (from matplotlib) (4.40.0)\n",
      "Requirement already satisfied: contourpy>=1.0.1 in /Library/Frameworks/Python.framework/Versions/3.9/lib/python3.9/site-packages (from matplotlib) (1.1.0)\n",
      "Requirement already satisfied: pillow>=6.2.0 in /Library/Frameworks/Python.framework/Versions/3.9/lib/python3.9/site-packages (from matplotlib) (10.0.0)\n",
      "Requirement already satisfied: numpy>=1.20 in /Library/Frameworks/Python.framework/Versions/3.9/lib/python3.9/site-packages (from matplotlib) (1.25.0)\n",
      "Requirement already satisfied: packaging>=20.0 in /Users/akshitrathore/Library/Python/3.9/lib/python/site-packages (from matplotlib) (23.1)\n",
      "Requirement already satisfied: cycler>=0.10 in /Library/Frameworks/Python.framework/Versions/3.9/lib/python3.9/site-packages (from matplotlib) (0.11.0)\n",
      "Requirement already satisfied: pyparsing>=2.3.1 in /Library/Frameworks/Python.framework/Versions/3.9/lib/python3.9/site-packages (from matplotlib) (3.1.0)\n",
      "Requirement already satisfied: zipp>=3.1.0 in /Users/akshitrathore/Library/Python/3.9/lib/python/site-packages (from importlib-resources>=3.2.0->matplotlib) (3.15.0)\n",
      "Requirement already satisfied: six>=1.5 in /Users/akshitrathore/Library/Python/3.9/lib/python/site-packages (from python-dateutil>=2.7->matplotlib) (1.16.0)\n",
      "\u001b[33mWARNING: You are using pip version 21.2.3; however, version 23.1.2 is available.\n",
      "You should consider upgrading via the '/Library/Frameworks/Python.framework/Versions/3.9/bin/python3 -m pip install --upgrade pip' command.\u001b[0m\n",
      "Note: you may need to restart the kernel to use updated packages.\n"
     ]
    }
   ],
   "source": [
    "pip install matplotlib"
   ]
  },
  {
   "cell_type": "code",
   "execution_count": 5,
   "id": "bff32d85",
   "metadata": {},
   "outputs": [],
   "source": [
    "#printing table\n",
    "\n",
    "\n",
    "\n",
    "\n",
    "import PySimpleGUI as sg\n",
    "import csv\n",
    "    \n",
    "\n",
    "def table_example(filename): #define the function that creates a table from an input file\n",
    "    if filename == '':\n",
    "        return\n",
    "    data = []\n",
    "    header_list = []\n",
    "    button = sg.popup_yes_no('', 'Does this file have column names already?', '') #check if input file already has column names\n",
    "    if filename is not None: \n",
    "        with open(filename, \"r\") as infile:\n",
    "            reader = csv.reader(infile)\n",
    "            if button == 'Yes':  #if yes, take the column names from the file\n",
    "                header_list = next(reader)\n",
    "            try:\n",
    "                data = list(reader)\n",
    "                if button == 'No':  #if not, name the columns as column0,column1 etc.\n",
    "                    header_list = ['column' + str(x) for x in range(len(data[0]))]\n",
    "            except:\n",
    "                sg.popup_error('Error reading file')\n",
    "                return\n",
    "            \n",
    "    #create a plot \n",
    "    #df=pd.read_csv(filename)\n",
    "    #fig=px.line(df,x = header_list[1],y = header_list[2], title = 'Plot Example')\n",
    "    #fig.show() #FIX THIS PART TO GET THE PLOT\n",
    "\n",
    "    \n",
    "    #create a window to show the table\n",
    "    layout = [[sg.Table(values=data,\n",
    "                        headings=header_list,\n",
    "                        max_col_width = 25,\n",
    "                        auto_size_columns=True,\n",
    "                        justification='right',\n",
    "                        num_rows=min(len(data), 60))]]\n",
    "\n",
    "\n",
    "    window = sg.Window('Table', layout, grab_anywhere=False, resizable = False)\n",
    "    event, values = window.read()\n",
    "\n",
    "    window.close()\n",
    "\n"
   ]
  },
  {
   "cell_type": "code",
   "execution_count": 6,
   "id": "1e16719f",
   "metadata": {},
   "outputs": [],
   "source": [
    "import PySimpleGUI as sg\n",
    "\n",
    "def xparameter(header):\n",
    "    layout = [\n",
    "                        [sg.Text('Select parameter on X-axis: ')],\n",
    "                        [sg.Radio(text, 2) for text in header],\n",
    "                        [sg.B('Plot'), sg.B('Exit')]\n",
    "                    ]\n",
    "\n",
    "    window = sg.Window('', layout)\n",
    "\n",
    "    event, values = window.read()\n",
    "    # if event == sg.WIN_CLOSED or event == 'Exit':  # always,  always give a way out!\n",
    "    #     break\n",
    "    if event == 'Plot':\n",
    "        for i, val in values.items():  \n",
    "            if val == True:\n",
    "                window.close()\n",
    "                return i\n",
    "    window.close()"
   ]
  },
  {
   "cell_type": "code",
   "execution_count": 7,
   "id": "db7727d5",
   "metadata": {},
   "outputs": [],
   "source": [
    "#plotting graph\n",
    "\n",
    "\n",
    "\n",
    "\n",
    "import PySimpleGUI as sg\n",
    "import numpy as np\n",
    "import pandas as pd\n",
    "import csv\n",
    "\n",
    "import matplotlib.pyplot as plt\n",
    "from matplotlib.backends.backend_tkagg import FigureCanvasTkAgg, NavigationToolbar2Tk\n",
    "\n",
    "\n",
    "def plot_graph(filename):\n",
    "    \n",
    "    \n",
    "    # ---------- toolbar code starts\n",
    "    \n",
    "    def draw_figure_w_toolbar(canvas, fig, canvas_toolbar):\n",
    "        if canvas.children:\n",
    "            for child in canvas.winfo_children():\n",
    "                child.destroy()\n",
    "        if canvas_toolbar.children:\n",
    "            for child in canvas_toolbar.winfo_children():\n",
    "                child.destroy()\n",
    "        figure_canvas_agg = FigureCanvasTkAgg(fig, master=canvas)\n",
    "        figure_canvas_agg.draw()\n",
    "        toolbar = Toolbar(figure_canvas_agg, canvas_toolbar)\n",
    "        toolbar.update()\n",
    "        figure_canvas_agg.get_tk_widget().pack(side='right', fill='both', expand=1)\n",
    "\n",
    "\n",
    "    class Toolbar(NavigationToolbar2Tk):\n",
    "        def __init__(self, *args, **kwargs):\n",
    "            super(Toolbar, self).__init__(*args, **kwargs)\n",
    "\n",
    "    # --------- ends\n",
    "            \n",
    "        \n",
    "        \n",
    "            \n",
    "    \n",
    "    # -------------- Reading csv file\n",
    "    df = pd.read_csv(filename)       \n",
    "    arr = df.to_numpy()\n",
    "\n",
    "    header = list(df.columns)\n",
    "    print(header)\n",
    "    \n",
    "    \n",
    "    \n",
    "    \n",
    "    # ------------------------------- PySimpleGUI CODE\n",
    "    layout = [\n",
    "        [sg.Column(\n",
    "            layout = [\n",
    "                [sg.Text('Select parameter on Y-axis: ')],\n",
    "            [sg.Radio(text, 2) for text in header]\n",
    "            ]\n",
    "        )],\n",
    "        [sg.B('Plot'), sg.B('Exit')],\n",
    "        [sg.T('Controls:')],\n",
    "        [sg.Canvas(key='controls_cv')],\n",
    "        [sg.T('Figure:')],\n",
    "        [sg.Column(\n",
    "            layout=[\n",
    "                [sg.Canvas(key='fig_cv',\n",
    "                           # it's important that you set this size\n",
    "                           size=(400 * 2, 400)\n",
    "                           )]\n",
    "            ],\n",
    "            background_color='#DAE0E6',\n",
    "            pad = (0, 0)\n",
    "        )],\n",
    "        ]\n",
    "\n",
    "    window = sg.Window('Graph', layout)\n",
    "\n",
    "    while True:\n",
    "        event, values = window.read()\n",
    "        if event == sg.WIN_CLOSED or event == 'Exit':  # always,  always give a way out!\n",
    "            break\n",
    "        elif event == 'Plot':            \n",
    "            \n",
    "            # ------ searching selected header \n",
    "            idx_y = -1\n",
    "            for i, val in values.items():  \n",
    "                if val == True:\n",
    "                    idx_y = i\n",
    "\n",
    "            \n",
    "            \n",
    "            plt.figure(1)\n",
    "            fig = plt.gcf()\n",
    "            DPI = fig.get_dpi()\n",
    "            # ---------------------- you have to play with this size to reduce the movement error when the mouse hovers over the figure, it's close to canvas size\n",
    "            fig.set_size_inches(404 * 2 / float(DPI), 404 / float(DPI))\n",
    "            # ----------------------\n",
    "            \n",
    "            \n",
    "            idx_x = -1\n",
    "            \n",
    "            button = sg.popup_yes_no('', 'Do you want to change parameter on X-axis from default', '')\n",
    "            if button == 'Yes':\n",
    "                idx_x = xparameter(header)\n",
    "\n",
    "\n",
    "                \n",
    "            x = []\n",
    "            if idx_x == -1:\n",
    "                x = np.arange(0, len(arr[:100, 0]), 1)\n",
    "            else:\n",
    "                x = arr[:100, idx_x]\n",
    "                \n",
    "            y = arr[:100, idx_y]\n",
    "\n",
    "            plt.figure(figsize = (500, 100))\n",
    "            \n",
    "            plt.plot(x, y)\n",
    "            if(idx_x == -1):\n",
    "                plt.xlabel('time(s)')\n",
    "            else:\n",
    "                plt.xlabel(header[idx_x])\n",
    "            plt.ylabel(header[idx_y])\n",
    "            fig = plt.gcf()\n",
    "            \n",
    "            # ------------------- Instead of plt.show()\n",
    "            draw_figure_w_toolbar(window['fig_cv'].TKCanvas, fig, window['controls_cv'].TKCanvas)\n",
    "            \n",
    "    window.close()\n",
    "    exit()\n",
    "    \n",
    "    \n",
    "# plot_graph(\"/Users/akshitrathore/Desktop/medical_examination.csv\")"
   ]
  },
  {
   "cell_type": "code",
   "execution_count": 8,
   "id": "74a1a292",
   "metadata": {},
   "outputs": [],
   "source": [
    "#choices\n",
    "\n",
    "\n",
    "\n",
    "import PySimpleGUI as sg\n",
    "from pathlib import Path\n",
    "\n",
    "\n",
    "def choices(filename):\n",
    "    \n",
    "    if Path(filename).suffix != '.csv':\n",
    "        sg.popup('', 'Please select a csv file', '')\n",
    "        return\n",
    "    \n",
    "    \n",
    "    radio_choices = ['Print table', 'Plot graph']\n",
    "    radio = [[sg.Radio(text, 1),] for text in radio_choices]\n",
    "    layout = [[sg.Text('Select option')]] + radio + [[sg.OK(), sg.Cancel()]]\n",
    "\n",
    "    window = sg.Window('', layout, size = (350, 125))\n",
    "    \n",
    "    while True:\n",
    "        event, values = window.Read()\n",
    "        if event == 'Cancel' or event == sg.WIN_CLOSED:\n",
    "            break\n",
    "        if event == 'OK':\n",
    "            window.close()\n",
    "            if values[0] == True:\n",
    "                table_example(filename)\n",
    "            else:\n",
    "                plot_graph(filename)\n",
    "    window.close()\n",
    "    exit()"
   ]
  },
  {
   "cell_type": "code",
   "execution_count": 9,
   "id": "d6ab6e3f",
   "metadata": {},
   "outputs": [
    {
     "name": "stderr",
     "output_type": "stream",
     "text": [
      "2023-07-04 14:46:10.745 Python[17522:7974211] +[CATransaction synchronize] called within transaction\n",
      "2023-07-04 14:46:10.826 Python[17522:7974211] +[CATransaction synchronize] called within transaction\n"
     ]
    },
    {
     "name": "stdout",
     "output_type": "stream",
     "text": [
      "['id', 'age', 'gender', 'height', 'weight', 'ap_hi', 'ap_lo', 'cholesterol', 'gluc', 'smoke', 'alco', 'active', 'cardio']\n"
     ]
    },
    {
     "ename": "",
     "evalue": "",
     "output_type": "error",
     "traceback": [
      "\u001b[1;31mCannot execute code, session has been disposed. Please try restarting the Kernel."
     ]
    },
    {
     "ename": "",
     "evalue": "",
     "output_type": "error",
     "traceback": [
      "\u001b[1;31mThe Kernel crashed while executing code in the the current cell or a previous cell. Please review the code in the cell(s) to identify a possible cause of the failure. Click <a href='https://aka.ms/vscodeJupyterKernelCrash'>here</a> for more info. View Jupyter <a href='command:jupyter.viewOutput'>log</a> for further details."
     ]
    }
   ],
   "source": [
    "#main\n",
    "\n",
    "\n",
    "\n",
    "import PySimpleGUI as sg\n",
    "import csv\n",
    "#import pandas as pd\n",
    "#import plotly.express as px\n",
    "\n",
    "\n",
    "#create a window for choosing input file\n",
    "sg.theme('SystemDefault')\n",
    "\n",
    "layout = [[sg.T(\"\")], [sg.Text(\"Input File Path: \")], [sg.Input(), sg.FileBrowse()],\n",
    "          [sg.T(\"\")], [sg.OK()]\n",
    "         ]\n",
    "\n",
    "window = sg.Window('File Browser', layout, size = (600,250))\n",
    "\n",
    "while True:\n",
    "    event, values = window.read()\n",
    "    #end program if user closes window\n",
    "    if event == sg.WIN_CLOSED:\n",
    "        break\n",
    "    #start with function table_example() to create a table from an input is user clicks on Begin!\n",
    "    if event == 'OK':\n",
    "        filename = values[0]    # 0 and 1 are keys of dictionary `values`\n",
    "        choices(filename) #take input data and create a table\n",
    "\n",
    "window.close()\n",
    "exit()"
   ]
  }
 ],
 "metadata": {
  "kernelspec": {
   "display_name": "Python 3",
   "language": "python",
   "name": "python3"
  },
  "language_info": {
   "codemirror_mode": {
    "name": "ipython",
    "version": 3
   },
   "file_extension": ".py",
   "mimetype": "text/x-python",
   "name": "python",
   "nbconvert_exporter": "python",
   "pygments_lexer": "ipython3",
   "version": "3.9.7"
  }
 },
 "nbformat": 4,
 "nbformat_minor": 5
}
